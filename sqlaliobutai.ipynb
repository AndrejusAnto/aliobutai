{
 "cells": [
  {
   "cell_type": "code",
   "execution_count": 1,
   "metadata": {},
   "outputs": [],
   "source": [
    "#!/usr/bin/env python3\n",
    "# -*- coding: utf-8 -*- "
   ]
  },
  {
   "cell_type": "code",
   "execution_count": 2,
   "metadata": {},
   "outputs": [],
   "source": [
    "import sqlite3\n",
    "import re"
   ]
  },
  {
   "cell_type": "code",
   "execution_count": 59,
   "metadata": {},
   "outputs": [],
   "source": [
    "import requests\n",
    "from bs4 import BeautifulSoup\n",
    "import pandas as pd\n",
    "\n",
    "\n",
    "K = []\n",
    "L = []\n",
    "KU = []\n",
    "L1 = []"
   ]
  },
  {
   "cell_type": "code",
   "execution_count": 60,
   "metadata": {},
   "outputs": [
    {
     "name": "stdout",
     "output_type": "stream",
     "text": [
      "ab ['33 m² ', '  1 kamb. ']\n",
      "ab ['36.83 m² ', '  1 kamb. ']\n",
      "[{'Skaičius': '2', 'Url': 'https://www.alio.lt/skelbimai/2-kamb-butas-klaipeda/ID57874722.html', 'Plotas': '43', 'Metai': '1967', 'Kaina': 48000}, {'Skaičius': '2', 'Url': 'https://www.alio.lt/skelbimai/2-kamb-butas-panevezys-panevezys-zemaiciu-g/ID57864398.html', 'Plotas': '50', 'Metai': '1974', 'Kaina': 31000}, {'Skaičius': '2', 'Url': 'https://www.alio.lt/skelbimai/2-kamb-butas-radviliskio-r-sav-radviliskis-gedimino-g/ID57798338.html', 'Plotas': '41.62', 'Metai': '1959', 'Kaina': 16000}, {'Skaičius': '2', 'Url': 'https://www.alio.lt/skelbimai/2-kamb-butas-telsiu-r-sav-telsiai-vilniaus-g/ID57799074.html', 'Plotas': '50', 'Metai': '1983', 'Kaina': 25000}, {'Skaičius': '3', 'Url': 'https://www.alio.lt/skelbimai/3-kamb-butas-alytus-alytus-vingio-g/ID57789738.html', 'Plotas': '65', 'Metai': '1970', 'Kaina': 27500}, {'Skaičius': '1', 'Url': 'https://www.alio.lt/skelbimai/1-kamb-butas-vilnius-verkiai-verkiu-g/ID57766156.html', 'Plotas': '24', 'Metai': '1986', 'Kaina': 23500}, {'Skaičius': '3', 'Url': 'https://www.alio.lt/skelbimai/3-kamb-butas-siauliai-siauliai-krymo-g/ID57872614.html', 'Plotas': '62.15', 'Metai': '1976', 'Kaina': 55000}, {'Skaičius': '3', 'Url': 'https://www.alio.lt/skelbimai/3-kamb-butas-jonavos-r-sav-rukla-rupeikio-g/ID57354156.html', 'Plotas': '67', 'Metai': '1993', 'Kaina': 11000}, {'Skaičius': '3', 'Url': 'https://www.alio.lt/skelbimai/3-kamb-butas-vilnius-karoliniskes-i-simulionio-g/ID57857618.html', 'Plotas': '89.85', 'Metai': '2007', 'Kaina': 197500}, {'Skaičius': '1', 'Url': 'https://www.alio.lt/skelbimai/1-kamb-butas-vilnius-naujoji-vilnia-geniu-g/ID57481766.html', 'Plotas': '29.2', 'Metai': '1974', 'Kaina': 33000}, {'Skaičius': '3', 'Url': 'https://www.alio.lt/skelbimai/3-kamb-butas-alytus-alytus-ulonu-g/ID57534848.html', 'Plotas': '65', 'Metai': '1945', 'Kaina': 18000}, {'Skaičius': '3', 'Url': 'https://www.alio.lt/skelbimai/3-kamb-butas-klaipeda/ID57099982.html', 'Plotas': '78', 'Metai': '1992', 'Kaina': 75000}, {'Skaičius': '4', 'Url': 'https://www.alio.lt/skelbimai/4-kamb-butas-kedainiu-r-sav-kunioniai-liepu-g/ID56709738.html', 'Plotas': '79', 'Metai': '1985', 'Kaina': 6300}, {'Skaičius': '3', 'Url': 'https://www.alio.lt/skelbimai/3-kamb-butas-alytus-alytus-santaikos-g/ID57128490.html', 'Plotas': '51.15', 'Metai': '2008', 'Kaina': 33823}, {'Skaičius': '2', 'Url': 'https://www.alio.lt/skelbimai/2-kamb-butas-alytus-alytus-a-jonyno-g/ID57815452.html', 'Plotas': '46', 'Metai': '1975', 'Kaina': 31800}, {'Skaičius': '2', 'Url': 'https://www.alio.lt/skelbimai/2-kamb-butas-klaipeda-zardininkai-zardininku-g/ID56618920.html', 'Plotas': '49', 'Metai': '1976', 'Kaina': 49000}, {'Skaičius': '4', 'Url': 'https://www.alio.lt/skelbimai/4-kamb-butas-alytus-alytus-vingio-g/ID57554578.html', 'Plotas': '76.97', 'Metai': '1976', 'Kaina': 28800}, {'Skaičius': '4', 'Url': 'https://www.alio.lt/skelbimai/4-kamb-butas-vilnius-lazdyneliai-bukciu-g/ID57757482.html', 'Plotas': '130', 'Metai': '1996', 'Kaina': 199999}, {'Skaičius': '1', 'Url': 'https://www.alio.lt/skelbimai/1-kamb-butas-vilnius-virsuliskes-virsuliskiu-g/ID57515642.html', 'Plotas': '33', 'Metai': 0, 'Kaina': 54949}, {'Skaičius': '2', 'Url': 'https://www.alio.lt/skelbimai/2-kamb-butas-vilnius-senamiestis-saltiniu-g/ID57880304.html', 'Plotas': '49.00', 'Metai': '2009', 'Kaina': 160000}, {'Skaičius': '3', 'Url': 'https://www.alio.lt/skelbimai/3-kamb-butas-vilnius-karoliniskes-l-asanaviciutes-g/ID57767382.html', 'Plotas': '64.00', 'Metai': '1972', 'Kaina': 85000}, {'Skaičius': '3', 'Url': 'https://www.alio.lt/skelbimai/3-kamb-butas-kaunas-aukstieji-sanciai-medvegalio-g/ID57880314.html', 'Plotas': '64.90', 'Metai': '1979', 'Kaina': 42000}, {'Skaičius': '3', 'Url': 'https://www.alio.lt/skelbimai/3-kamb-butas-panevezys-panevezys-sodu-g/ID57880316.html', 'Plotas': '62.50', 'Metai': '1975', 'Kaina': 43500}, {'Skaičius': '3', 'Url': 'https://www.alio.lt/skelbimai/3-kamb-butas-vilnius-naujamiestis-savanoriu-pr/ID57880328.html', 'Plotas': '69.00', 'Metai': '1976', 'Kaina': 73000}, {'Skaičius': '2', 'Url': 'https://www.alio.lt/skelbimai/2-kamb-butas-klaipeda-debrecenas-debreceno-g/ID57864376.html', 'Plotas': '47.00', 'Metai': '1970', 'Kaina': 45999}, {'Skaičius': '2', 'Url': 'https://www.alio.lt/skelbimai/2-kamb-butas-klaipeda/ID57874722.html', 'Plotas': '43', 'Metai': '1967', 'Kaina': 48000}, {'Skaičius': '2', 'Url': 'https://www.alio.lt/skelbimai/2-kamb-butas-panevezys-panevezys-zemaiciu-g/ID57864398.html', 'Plotas': '50', 'Metai': '1974', 'Kaina': 31000}, {'Skaičius': '2', 'Url': 'https://www.alio.lt/skelbimai/2-kamb-butas-radviliskio-r-sav-radviliskis-gedimino-g/ID57798338.html', 'Plotas': '41.62', 'Metai': '1959', 'Kaina': 16000}, {'Skaičius': '2', 'Url': 'https://www.alio.lt/skelbimai/2-kamb-butas-telsiu-r-sav-telsiai-vilniaus-g/ID57799074.html', 'Plotas': '50', 'Metai': '1983', 'Kaina': 25000}, {'Skaičius': '3', 'Url': 'https://www.alio.lt/skelbimai/3-kamb-butas-alytus-alytus-vingio-g/ID57789738.html', 'Plotas': '65', 'Metai': '1970', 'Kaina': 27500}, {'Skaičius': '1', 'Url': 'https://www.alio.lt/skelbimai/1-kamb-butas-vilnius-verkiai-verkiu-g/ID57766156.html', 'Plotas': '24', 'Metai': '1986', 'Kaina': 23500}, {'Skaičius': '3', 'Url': 'https://www.alio.lt/skelbimai/3-kamb-butas-siauliai-siauliai-krymo-g/ID57872614.html', 'Plotas': '62.15', 'Metai': '1976', 'Kaina': 55000}, {'Skaičius': '3', 'Url': 'https://www.alio.lt/skelbimai/3-kamb-butas-jonavos-r-sav-rukla-rupeikio-g/ID57354156.html', 'Plotas': '67', 'Metai': '1993', 'Kaina': 11000}, {'Skaičius': '3', 'Url': 'https://www.alio.lt/skelbimai/3-kamb-butas-vilnius-karoliniskes-i-simulionio-g/ID57857618.html', 'Plotas': '89.85', 'Metai': '2007', 'Kaina': 197500}, {'Skaičius': '1', 'Url': 'https://www.alio.lt/skelbimai/1-kamb-butas-vilnius-naujoji-vilnia-geniu-g/ID57481766.html', 'Plotas': '29.2', 'Metai': '1974', 'Kaina': 33000}, {'Skaičius': '3', 'Url': 'https://www.alio.lt/skelbimai/3-kamb-butas-alytus-alytus-ulonu-g/ID57534848.html', 'Plotas': '65', 'Metai': '1945', 'Kaina': 18000}, {'Skaičius': '3', 'Url': 'https://www.alio.lt/skelbimai/3-kamb-butas-klaipeda/ID57099982.html', 'Plotas': '78', 'Metai': '1992', 'Kaina': 75000}, {'Skaičius': '4', 'Url': 'https://www.alio.lt/skelbimai/4-kamb-butas-kedainiu-r-sav-kunioniai-liepu-g/ID56709738.html', 'Plotas': '79', 'Metai': '1985', 'Kaina': 6300}, {'Skaičius': '3', 'Url': 'https://www.alio.lt/skelbimai/3-kamb-butas-alytus-alytus-santaikos-g/ID57128490.html', 'Plotas': '51.15', 'Metai': '2008', 'Kaina': 33823}, {'Skaičius': '2', 'Url': 'https://www.alio.lt/skelbimai/2-kamb-butas-alytus-alytus-a-jonyno-g/ID57815452.html', 'Plotas': '46', 'Metai': '1975', 'Kaina': 31800}, {'Skaičius': '2', 'Url': 'https://www.alio.lt/skelbimai/2-kamb-butas-klaipeda-zardininkai-zardininku-g/ID56618920.html', 'Plotas': '49', 'Metai': '1976', 'Kaina': 49000}, {'Skaičius': '4', 'Url': 'https://www.alio.lt/skelbimai/4-kamb-butas-alytus-alytus-vingio-g/ID57554578.html', 'Plotas': '76.97', 'Metai': '1976', 'Kaina': 28800}, {'Skaičius': '4', 'Url': 'https://www.alio.lt/skelbimai/4-kamb-butas-vilnius-lazdyneliai-bukciu-g/ID57757482.html', 'Plotas': '130', 'Metai': '1996', 'Kaina': 199999}, {'Skaičius': '1', 'Url': 'https://www.alio.lt/skelbimai/1-kamb-butas-vilnius-virsuliskes-virsuliskiu-g/ID57515642.html', 'Plotas': '33', 'Metai': 0, 'Kaina': 54949}, {'Skaičius': '2', 'Url': 'https://www.alio.lt/skelbimai/2-kamb-butas-vilnius-senamiestis-saltiniu-g/ID57880304.html', 'Plotas': '49.00', 'Metai': '2009', 'Kaina': 160000}, {'Skaičius': '3', 'Url': 'https://www.alio.lt/skelbimai/3-kamb-butas-vilnius-karoliniskes-l-asanaviciutes-g/ID57767382.html', 'Plotas': '64.00', 'Metai': '1972', 'Kaina': 85000}, {'Skaičius': '3', 'Url': 'https://www.alio.lt/skelbimai/3-kamb-butas-kaunas-aukstieji-sanciai-medvegalio-g/ID57880314.html', 'Plotas': '64.90', 'Metai': '1979', 'Kaina': 42000}, {'Skaičius': '3', 'Url': 'https://www.alio.lt/skelbimai/3-kamb-butas-panevezys-panevezys-sodu-g/ID57880316.html', 'Plotas': '62.50', 'Metai': '1975', 'Kaina': 43500}, {'Skaičius': '3', 'Url': 'https://www.alio.lt/skelbimai/3-kamb-butas-vilnius-naujamiestis-savanoriu-pr/ID57880328.html', 'Plotas': '69.00', 'Metai': '1976', 'Kaina': 73000}, {'Skaičius': '2', 'Url': 'https://www.alio.lt/skelbimai/2-kamb-butas-klaipeda-debrecenas-debreceno-g/ID57864376.html', 'Plotas': '47.00', 'Metai': '1970', 'Kaina': 45999}, {'Skaičius': '3', 'Url': 'https://www.alio.lt/skelbimai/3-kamb-butas-elektrenu-sav-vievis-naujoji-g/ID57689362.html', 'Plotas': '63.33', 'Metai': '1981', 'Kaina': 60000}, {'Skaičius': '3', 'Url': 'https://www.alio.lt/skelbimai/3-kamb-butas-vilnius-naujininkai-pelesos-g/ID56811828.html', 'Plotas': '54', 'Metai': '1963', 'Kaina': 60000}, {'Skaičius': '3', 'Url': 'https://www.alio.lt/skelbimai/3-kamb-butas-alytus-alytus-kastonu-g/ID57649394.html', 'Plotas': '64.37', 'Metai': '1978', 'Kaina': 33500}, {'Skaičius': '2', 'Url': 'https://www.alio.lt/skelbimai/2-kamb-butas-alytus-alytus-putinu-g/ID57503176.html', 'Plotas': '50.64', 'Metai': '1987', 'Kaina': 14500}, {'Skaičius': '2', 'Url': 'https://www.alio.lt/skelbimai/2-kamb-butas-kaunas-dainava-partizanu-g/ID57758236.html', 'Plotas': '49.28', 'Metai': '1984', 'Kaina': 37000}, {'Skaičius': '3', 'Url': 'https://www.alio.lt/skelbimai/3-kamb-butas-vilnius-zirmunai-tuskulenu-g/ID57880298.html', 'Plotas': '61.00', 'Metai': '1968', 'Kaina': 85000}, {'Skaičius': '1', 'Url': 'https://www.alio.lt/skelbimai/1-kamb-butas-siauliai-siauliai-tilzes-g/ID57649778.html', 'Plotas': '22.00', 'Metai': '1972', 'Kaina': 5400}, {'Skaičius': '2', 'Url': 'https://www.alio.lt/skelbimai/2-kamb-butas-vilnius-karoliniskes-l-asanaviciutes-g/ID57653958.html', 'Plotas': '54.70', 'Metai': '1972', 'Kaina': 55800}, {'Skaičius': '2', 'Url': 'https://www.alio.lt/skelbimai/2-kamb-butas-klaipeda-debrecenas-debreceno-g/ID57880300.html', 'Plotas': '48.00', 'Metai': '1971', 'Kaina': 53500}, {'Skaičius': '2', 'Url': 'https://www.alio.lt/skelbimai/2-kamb-butas-kaunas-vilijampole-gintaro-g/ID57880282.html', 'Plotas': '72.60', 'Metai': '2006', 'Kaina': 105000}, {'Skaičius': '3', 'Url': 'https://www.alio.lt/skelbimai/3-kamb-butas-vilnius-fabijoniskes-fabijoniskiu-g/ID57880284.html', 'Plotas': '64.00', 'Metai': '2001', 'Kaina': 91999}, {'Skaičius': '2', 'Url': 'https://www.alio.lt/skelbimai/2-kamb-butas-radviliskio-r-sav-seduva-vytauto-g/ID57809954.html', 'Plotas': '44.91', 'Metai': '1935', 'Kaina': 10000}, {'Skaičius': '3', 'Url': 'https://www.alio.lt/skelbimai/3-kamb-butas-klaipeda-centras-danes-g/ID57880276.html', 'Plotas': '66.00', 'Metai': '1960', 'Kaina': 105000}, {'Skaičius': '3', 'Url': 'https://www.alio.lt/skelbimai/3-kamb-butas-kaunas-centras-sopranu-g/ID57727584.html', 'Plotas': '81.60', 'Metai': '1967', 'Kaina': 98000}, {'Skaičius': '3', 'Url': 'https://www.alio.lt/skelbimai/3-kamb-butas-vilnius-lazdyneliai-bukciu-g/ID57880274.html', 'Plotas': '98.00', 'Metai': '1996', 'Kaina': 117000}, {'Skaičius': '3', 'Url': 'https://www.alio.lt/skelbimai/3-kamb-butas-kaunas-centras-rotuses-a/ID57782536.html', 'Plotas': '77.47', 'Metai': '1940', 'Kaina': 265000}, {'Skaičius': '3', 'Url': 'https://www.alio.lt/skelbimai/3-kamb-butas-vilnius-fabijoniskes-fabijoniskiu-g/ID57880268.html', 'Plotas': '58.00', 'Metai': '2001', 'Kaina': 82499}, {'Skaičius': '4', 'Url': 'https://www.alio.lt/skelbimai/4-kamb-butas-panevezys-panevezys-saltinio-g/ID57880258.html', 'Plotas': '80.00', 'Metai': '2018', 'Kaina': 64000}, {'Skaičius': '3', 'Url': 'https://www.alio.lt/skelbimai/3-kamb-butas-vilnius-senamiestis-polocko-g/ID57300424.html', 'Plotas': '40.00', 'Metai': '1940', 'Kaina': 70000}, {'Skaičius': '3', 'Url': 'https://www.alio.lt/skelbimai/3-kamb-butas-vilnius-senamiestis-t-vrublevskio-g/ID57880252.html', 'Plotas': '101.00', 'Metai': '1940', 'Kaina': 202000}, {'Skaičius': '3', 'Url': 'https://www.alio.lt/skelbimai/3-kamb-butas-panevezys-panevezys-suvalku-g/ID57690570.html', 'Plotas': '59.56', 'Metai': '2018', 'Kaina': 53008}, {'Skaičius': '2', 'Url': 'https://www.alio.lt/skelbimai/2-kamb-butas-palanga-palanga-plytu-g/ID57880248.html', 'Plotas': '40.00', 'Metai': '2000', 'Kaina': 70000}, {'Skaičius': '3', 'Url': 'https://www.alio.lt/skelbimai/3-kamb-butas-kaunas-griciupis-birzisku-g/ID57476070.html', 'Plotas': '61.50', 'Metai': '2016', 'Kaina': 91900}, {'Skaičius': '3', 'Url': 'https://www.alio.lt/skelbimai/3-kamb-butas-kaunas-griciupis-birzisku-g/ID57638508.html', 'Plotas': '66.90', 'Metai': '2018', 'Kaina': 114500}, {'Skaičius': '2', 'Url': 'https://www.alio.lt/skelbimai/2-kamb-butas-kaunas-griciupis-birzisku-g/ID57645786.html', 'Plotas': '52.90', 'Metai': '2018', 'Kaina': 87100}, {'Skaičius': '2', 'Url': 'https://www.alio.lt/skelbimai/2-kamb-butas-klaipeda/ID57874722.html', 'Plotas': '43', 'Metai': '1967', 'Kaina': 48000}, {'Skaičius': '2', 'Url': 'https://www.alio.lt/skelbimai/2-kamb-butas-panevezys-panevezys-zemaiciu-g/ID57864398.html', 'Plotas': '50', 'Metai': '1974', 'Kaina': 31000}, {'Skaičius': '2', 'Url': 'https://www.alio.lt/skelbimai/2-kamb-butas-radviliskio-r-sav-radviliskis-gedimino-g/ID57798338.html', 'Plotas': '41.62', 'Metai': '1959', 'Kaina': 16000}, {'Skaičius': '2', 'Url': 'https://www.alio.lt/skelbimai/2-kamb-butas-telsiu-r-sav-telsiai-vilniaus-g/ID57799074.html', 'Plotas': '50', 'Metai': '1983', 'Kaina': 25000}, {'Skaičius': '3', 'Url': 'https://www.alio.lt/skelbimai/3-kamb-butas-alytus-alytus-vingio-g/ID57789738.html', 'Plotas': '65', 'Metai': '1970', 'Kaina': 27500}, {'Skaičius': '1', 'Url': 'https://www.alio.lt/skelbimai/1-kamb-butas-vilnius-verkiai-verkiu-g/ID57766156.html', 'Plotas': '24', 'Metai': '1986', 'Kaina': 23500}, {'Skaičius': '3', 'Url': 'https://www.alio.lt/skelbimai/3-kamb-butas-siauliai-siauliai-krymo-g/ID57872614.html', 'Plotas': '62.15', 'Metai': '1976', 'Kaina': 55000}, {'Skaičius': '3', 'Url': 'https://www.alio.lt/skelbimai/3-kamb-butas-jonavos-r-sav-rukla-rupeikio-g/ID57354156.html', 'Plotas': '67', 'Metai': '1993', 'Kaina': 11000}, {'Skaičius': '3', 'Url': 'https://www.alio.lt/skelbimai/3-kamb-butas-vilnius-karoliniskes-i-simulionio-g/ID57857618.html', 'Plotas': '89.85', 'Metai': '2007', 'Kaina': 197500}, {'Skaičius': '1', 'Url': 'https://www.alio.lt/skelbimai/1-kamb-butas-vilnius-naujoji-vilnia-geniu-g/ID57481766.html', 'Plotas': '29.2', 'Metai': '1974', 'Kaina': 33000}, {'Skaičius': '3', 'Url': 'https://www.alio.lt/skelbimai/3-kamb-butas-alytus-alytus-ulonu-g/ID57534848.html', 'Plotas': '65', 'Metai': '1945', 'Kaina': 18000}, {'Skaičius': '3', 'Url': 'https://www.alio.lt/skelbimai/3-kamb-butas-klaipeda/ID57099982.html', 'Plotas': '78', 'Metai': '1992', 'Kaina': 75000}, {'Skaičius': '4', 'Url': 'https://www.alio.lt/skelbimai/4-kamb-butas-kedainiu-r-sav-kunioniai-liepu-g/ID56709738.html', 'Plotas': '79', 'Metai': '1985', 'Kaina': 6300}, {'Skaičius': '3', 'Url': 'https://www.alio.lt/skelbimai/3-kamb-butas-alytus-alytus-santaikos-g/ID57128490.html', 'Plotas': '51.15', 'Metai': '2008', 'Kaina': 33823}, {'Skaičius': '2', 'Url': 'https://www.alio.lt/skelbimai/2-kamb-butas-alytus-alytus-a-jonyno-g/ID57815452.html', 'Plotas': '46', 'Metai': '1975', 'Kaina': 31800}, {'Skaičius': '2', 'Url': 'https://www.alio.lt/skelbimai/2-kamb-butas-klaipeda-zardininkai-zardininku-g/ID56618920.html', 'Plotas': '49', 'Metai': '1976', 'Kaina': 49000}, {'Skaičius': '4', 'Url': 'https://www.alio.lt/skelbimai/4-kamb-butas-alytus-alytus-vingio-g/ID57554578.html', 'Plotas': '76.97', 'Metai': '1976', 'Kaina': 28800}, {'Skaičius': '4', 'Url': 'https://www.alio.lt/skelbimai/4-kamb-butas-vilnius-lazdyneliai-bukciu-g/ID57757482.html', 'Plotas': '130', 'Metai': '1996', 'Kaina': 199999}, {'Skaičius': '1', 'Url': 'https://www.alio.lt/skelbimai/1-kamb-butas-vilnius-virsuliskes-virsuliskiu-g/ID57515642.html', 'Plotas': '33', 'Metai': 0, 'Kaina': 54949}, {'Skaičius': '2', 'Url': 'https://www.alio.lt/skelbimai/2-kamb-butas-vilnius-senamiestis-saltiniu-g/ID57880304.html', 'Plotas': '49.00', 'Metai': '2009', 'Kaina': 160000}, {'Skaičius': '3', 'Url': 'https://www.alio.lt/skelbimai/3-kamb-butas-vilnius-karoliniskes-l-asanaviciutes-g/ID57767382.html', 'Plotas': '64.00', 'Metai': '1972', 'Kaina': 85000}, {'Skaičius': '3', 'Url': 'https://www.alio.lt/skelbimai/3-kamb-butas-kaunas-aukstieji-sanciai-medvegalio-g/ID57880314.html', 'Plotas': '64.90', 'Metai': '1979', 'Kaina': 42000}, {'Skaičius': '3', 'Url': 'https://www.alio.lt/skelbimai/3-kamb-butas-panevezys-panevezys-sodu-g/ID57880316.html', 'Plotas': '62.50', 'Metai': '1975', 'Kaina': 43500}, {'Skaičius': '3', 'Url': 'https://www.alio.lt/skelbimai/3-kamb-butas-vilnius-naujamiestis-savanoriu-pr/ID57880328.html', 'Plotas': '69.00', 'Metai': '1976', 'Kaina': 73000}, {'Skaičius': '2', 'Url': 'https://www.alio.lt/skelbimai/2-kamb-butas-klaipeda-debrecenas-debreceno-g/ID57864376.html', 'Plotas': '47.00', 'Metai': '1970', 'Kaina': 45999}, {'Skaičius': '3', 'Url': 'https://www.alio.lt/skelbimai/3-kamb-butas-elektrenu-sav-vievis-naujoji-g/ID57689362.html', 'Plotas': '63.33', 'Metai': '1981', 'Kaina': 60000}, {'Skaičius': '3', 'Url': 'https://www.alio.lt/skelbimai/3-kamb-butas-vilnius-naujininkai-pelesos-g/ID56811828.html', 'Plotas': '54', 'Metai': '1963', 'Kaina': 60000}, {'Skaičius': '3', 'Url': 'https://www.alio.lt/skelbimai/3-kamb-butas-alytus-alytus-kastonu-g/ID57649394.html', 'Plotas': '64.37', 'Metai': '1978', 'Kaina': 33500}, {'Skaičius': '2', 'Url': 'https://www.alio.lt/skelbimai/2-kamb-butas-alytus-alytus-putinu-g/ID57503176.html', 'Plotas': '50.64', 'Metai': '1987', 'Kaina': 14500}, {'Skaičius': '2', 'Url': 'https://www.alio.lt/skelbimai/2-kamb-butas-kaunas-dainava-partizanu-g/ID57758236.html', 'Plotas': '49.28', 'Metai': '1984', 'Kaina': 37000}, {'Skaičius': '3', 'Url': 'https://www.alio.lt/skelbimai/3-kamb-butas-vilnius-zirmunai-tuskulenu-g/ID57880298.html', 'Plotas': '61.00', 'Metai': '1968', 'Kaina': 85000}, {'Skaičius': '1', 'Url': 'https://www.alio.lt/skelbimai/1-kamb-butas-siauliai-siauliai-tilzes-g/ID57649778.html', 'Plotas': '22.00', 'Metai': '1972', 'Kaina': 5400}, {'Skaičius': '2', 'Url': 'https://www.alio.lt/skelbimai/2-kamb-butas-vilnius-karoliniskes-l-asanaviciutes-g/ID57653958.html', 'Plotas': '54.70', 'Metai': '1972', 'Kaina': 55800}, {'Skaičius': '2', 'Url': 'https://www.alio.lt/skelbimai/2-kamb-butas-klaipeda-debrecenas-debreceno-g/ID57880300.html', 'Plotas': '48.00', 'Metai': '1971', 'Kaina': 53500}, {'Skaičius': '2', 'Url': 'https://www.alio.lt/skelbimai/2-kamb-butas-kaunas-vilijampole-gintaro-g/ID57880282.html', 'Plotas': '72.60', 'Metai': '2006', 'Kaina': 105000}, {'Skaičius': '3', 'Url': 'https://www.alio.lt/skelbimai/3-kamb-butas-vilnius-fabijoniskes-fabijoniskiu-g/ID57880284.html', 'Plotas': '64.00', 'Metai': '2001', 'Kaina': 91999}, {'Skaičius': '2', 'Url': 'https://www.alio.lt/skelbimai/2-kamb-butas-radviliskio-r-sav-seduva-vytauto-g/ID57809954.html', 'Plotas': '44.91', 'Metai': '1935', 'Kaina': 10000}, {'Skaičius': '3', 'Url': 'https://www.alio.lt/skelbimai/3-kamb-butas-klaipeda-centras-danes-g/ID57880276.html', 'Plotas': '66.00', 'Metai': '1960', 'Kaina': 105000}, {'Skaičius': '3', 'Url': 'https://www.alio.lt/skelbimai/3-kamb-butas-kaunas-centras-sopranu-g/ID57727584.html', 'Plotas': '81.60', 'Metai': '1967', 'Kaina': 98000}, {'Skaičius': '3', 'Url': 'https://www.alio.lt/skelbimai/3-kamb-butas-vilnius-lazdyneliai-bukciu-g/ID57880274.html', 'Plotas': '98.00', 'Metai': '1996', 'Kaina': 117000}, {'Skaičius': '3', 'Url': 'https://www.alio.lt/skelbimai/3-kamb-butas-kaunas-centras-rotuses-a/ID57782536.html', 'Plotas': '77.47', 'Metai': '1940', 'Kaina': 265000}, {'Skaičius': '3', 'Url': 'https://www.alio.lt/skelbimai/3-kamb-butas-vilnius-fabijoniskes-fabijoniskiu-g/ID57880268.html', 'Plotas': '58.00', 'Metai': '2001', 'Kaina': 82499}, {'Skaičius': '4', 'Url': 'https://www.alio.lt/skelbimai/4-kamb-butas-panevezys-panevezys-saltinio-g/ID57880258.html', 'Plotas': '80.00', 'Metai': '2018', 'Kaina': 64000}, {'Skaičius': '3', 'Url': 'https://www.alio.lt/skelbimai/3-kamb-butas-vilnius-senamiestis-polocko-g/ID57300424.html', 'Plotas': '40.00', 'Metai': '1940', 'Kaina': 70000}, {'Skaičius': '3', 'Url': 'https://www.alio.lt/skelbimai/3-kamb-butas-vilnius-senamiestis-t-vrublevskio-g/ID57880252.html', 'Plotas': '101.00', 'Metai': '1940', 'Kaina': 202000}, {'Skaičius': '3', 'Url': 'https://www.alio.lt/skelbimai/3-kamb-butas-panevezys-panevezys-suvalku-g/ID57690570.html', 'Plotas': '59.56', 'Metai': '2018', 'Kaina': 53008}, {'Skaičius': '2', 'Url': 'https://www.alio.lt/skelbimai/2-kamb-butas-palanga-palanga-plytu-g/ID57880248.html', 'Plotas': '40.00', 'Metai': '2000', 'Kaina': 70000}, {'Skaičius': '3', 'Url': 'https://www.alio.lt/skelbimai/3-kamb-butas-kaunas-griciupis-birzisku-g/ID57476070.html', 'Plotas': '61.50', 'Metai': '2016', 'Kaina': 91900}, {'Skaičius': '3', 'Url': 'https://www.alio.lt/skelbimai/3-kamb-butas-kaunas-griciupis-birzisku-g/ID57638508.html', 'Plotas': '66.90', 'Metai': '2018', 'Kaina': 114500}, {'Skaičius': '2', 'Url': 'https://www.alio.lt/skelbimai/2-kamb-butas-kaunas-griciupis-birzisku-g/ID57645786.html', 'Plotas': '52.90', 'Metai': '2018', 'Kaina': 87100}, {'Skaičius': '2', 'Url': 'https://www.alio.lt/skelbimai/2-kamb-butas-siauliu-r-sav-sutkunai-joniskio-g/ID57331940.html', 'Plotas': '42', 'Metai': '1964', 'Kaina': 14500}, {'Skaičius': '1', 'Url': 'https://www.alio.lt/skelbimai/1-kamb-butas-neringos-sav-neringa-preilos-g/ID57880198.html', 'Plotas': '33.51', 'Metai': '2017', 'Kaina': 107230}, {'Skaičius': '2', 'Url': 'https://www.alio.lt/skelbimai/2-kamb-butas-klaipeda-zvejybos-uostas-naikupes-g/ID57880180.html', 'Plotas': '52', 'Metai': '1992', 'Kaina': 52000}, {'Skaičius': '2', 'Url': 'https://www.alio.lt/skelbimai/2-kamb-butas-neringos-sav-preilas-pervalka-preilos-g/ID57880176.html', 'Plotas': '46.01', 'Metai': '2017', 'Kaina': 147230}, {'Skaičius': '3', 'Url': 'https://www.alio.lt/skelbimai/3-kamb-butas-alytus-alytus-kastonu-g/ID57633506.html', 'Plotas': '64', 'Metai': '1978', 'Kaina': 28900}, {'Skaičius': '2', 'Url': 'https://www.alio.lt/skelbimai/2-kamb-butas-kaunas-lampedziai-antagynes-g/ID57880158.html', 'Plotas': '71', 'Metai': '2008', 'Kaina': 94900}, {'Skaičius': '2', 'Url': 'https://www.alio.lt/skelbimai/2-kamb-butas-marijampoles-sav-marijampole-kosmonautu-g/ID57533478.html', 'Plotas': '50', 'Metai': '1990', 'Kaina': 31500}, {'Skaičius': '3', 'Url': 'https://www.alio.lt/skelbimai/3-kamb-butas-kretingos-r-sav-kretinga-kestucio-g/ID57844544.html', 'Plotas': '58.2', 'Metai': '1969', 'Kaina': 39000}, {'Skaičius': '3', 'Url': 'https://www.alio.lt/skelbimai/3-kamb-butas-kretingos-r-sav-kretinga-savanoriu-g/ID57783866.html', 'Plotas': '64.03', 'Metai': '1985', 'Kaina': 52000}, {'Skaičius': '1', 'Url': 'https://www.alio.lt/skelbimai/1-kamb-butas-kretingos-r-sav-kretinga-muitines-g/ID57783246.html', 'Plotas': '24.1', 'Metai': '1922', 'Kaina': 8000}, {'Skaičius': '1', 'Url': 'https://www.alio.lt/skelbimai/1-kamb-butas-palanga-palanga-zemaiciu-g/ID56552464.html', 'Plotas': '29.14', 'Metai': '2013', 'Kaina': 59000}, {'Skaičius': '3', 'Url': 'https://www.alio.lt/skelbimai/3-kamb-butas-palanga-palanga-birutes-al/ID55040289.html', 'Plotas': '66.63', 'Metai': '2001', 'Kaina': 266000}, {'Skaičius': '1', 'Url': 'https://www.alio.lt/skelbimai/1-kamb-butas-palanga-palanga-plytu-g/ID55021867.html', 'Plotas': '36.83', 'Metai': 0, 'Kaina': 52000}, {'Skaičius': '5', 'Url': 'https://www.alio.lt/skelbimai/5-kamb-butas-palanga-palanga-mokyklos-g/ID55015985.html', 'Plotas': '305', 'Metai': '2010', 'Kaina': 290000}, {'Skaičius': '2', 'Url': 'https://www.alio.lt/skelbimai/2-kamb-butas-palanga-palanga-s-neries-g/ID55034707.html', 'Plotas': '44', 'Metai': '1966', 'Kaina': 72000}, {'Skaičius': '1', 'Url': 'https://www.alio.lt/skelbimai/1-kamb-butas-palanga-palanga-vanagupes-g/ID57566044.html', 'Plotas': '30', 'Metai': '2009', 'Kaina': 68000}, {'Skaičius': '4', 'Url': 'https://www.alio.lt/skelbimai/4-kamb-butas-palanga-palanga-austejos-g/ID55741819.html', 'Plotas': '89.39', 'Metai': '1993', 'Kaina': 95000}, {'Skaičius': '2', 'Url': 'https://www.alio.lt/skelbimai/2-kamb-butas-palanga-palanga-plytu-g/ID55766141.html', 'Plotas': '39.78', 'Metai': '2000', 'Kaina': 77000}, {'Skaičius': '2', 'Url': 'https://www.alio.lt/skelbimai/2-kamb-butas-palanga-palanga-vytauto-g/ID55021959.html', 'Plotas': '47', 'Metai': '2013', 'Kaina': 160000}, {'Skaičius': '2', 'Url': 'https://www.alio.lt/skelbimai/2-kamb-butas-palanga-palanga-birutes-al/ID55048839.html', 'Plotas': '52.58', 'Metai': '2001', 'Kaina': 210000}, {'Skaičius': '2', 'Url': 'https://www.alio.lt/skelbimai/2-kamb-butas-palanga-palanga-s-neries-g/ID55025855.html', 'Plotas': '51', 'Metai': '2007', 'Kaina': 119000}, {'Skaičius': '2', 'Url': 'https://www.alio.lt/skelbimai/2-kamb-butas-palanga-palanga-vytauto-g/ID55027391.html', 'Plotas': '34', 'Metai': '2013', 'Kaina': 110000}, {'Skaičius': '2', 'Url': 'https://www.alio.lt/skelbimai/2-kamb-butas-palanga-palanga-zemaiciu-g/ID55016133.html', 'Plotas': '34.19', 'Metai': '2007', 'Kaina': 57000}, {'Skaičius': '2', 'Url': 'https://www.alio.lt/skelbimai/2-kamb-butas-palanga-palanga-vytauto-g/ID55027397.html', 'Plotas': '42', 'Metai': '2013', 'Kaina': 135000}, {'Skaičius': '1', 'Url': 'https://www.alio.lt/skelbimai/1-kamb-butas-klaipeda-naujakiemis-taikos-pr/ID56540102.html', 'Plotas': '32.92', 'Metai': '1992', 'Kaina': 35000}]\n"
     ]
    }
   ],
   "source": [
    "# pagrindinis link'as, naudojant scrapinimui einant per pasiūlymų puslapius\n",
    "burl = \"http://www.alio.lt/nekilnojamas-turtas/butai/parduoda.html?page=\"\n",
    "\n",
    "# # BeautifulSoup standartinis puslapio duomenų paruošimas\n",
    "# m = requests.get(burl+\"1\")\n",
    "# d = m.content\n",
    "# soup = BeautifulSoup(d, \"html.parser\")\n",
    "\n",
    "for i in range(1,4):\n",
    "    c = requests.get(burl+str(i))\n",
    "    d = c.content\n",
    "    soup = BeautifulSoup(d, \"html.parser\")\n",
    "    a = soup.find_all(\"div\", {\"class\":\"price\"}) # Kaina\n",
    "    b = soup.find_all(\"div\", {\"class\":\"description\"}) # Kamb.skaičius, Plotis ir Metai\n",
    "    l = soup.find_all(\"a\", {\"class\":\"vertiselink cursor-pointer\"}) #Url link'as\n",
    "    \n",
    "\n",
    "# atitinakamų duomenų suradimas ir pridėjimas prie atitinkamo list'o\n",
    "    for oi in a:\n",
    "        K.append(int(oi.find(\"span\", {\"class\":\"main_price\"}).text.replace(\" \", \"\").replace(\"€\",\"\")))\n",
    "        \n",
    "    for op in b:\n",
    "        dc = []\n",
    "        if len(op.text.split(\"|\")) == 3:\n",
    "            ab = op.text.split(\"|\")\n",
    "            ab = ab[:-1]\n",
    "            print(\"ab\", ab)\n",
    "            for k in ab:\n",
    "                kb = k.split(\" \")\n",
    "                o = list(filter(None, kb))\n",
    "                dc.append(o[0])\n",
    "            dc.append(0)\n",
    "            L.append(dc)\n",
    "        else:\n",
    "            ab = op.text.split(\"|\")\n",
    "            ab = ab[:-1]\n",
    "            #print(ab)\n",
    "            for k in ab:\n",
    "                kb = k.split(\" \")\n",
    "                o = list(filter(None, kb))\n",
    "                dc.append(o[0])\n",
    "            L.append(dc)\n",
    "    \n",
    "    for h1 in l:\n",
    "        if h1[\"href\"] not in L1:\n",
    "            L1.append(h1['href'])\n",
    "\n",
    "    #pridedama reikiamus list'ų duomenis į dict, kad būtų galima vėliau panaudoti pandas \n",
    "    for p,n,q in zip(K,L,L1):\n",
    "        dic = {}\n",
    "        dic[\"Kaina\"] = p\n",
    "        #print(dic[\"Kaina\"])\n",
    "        dic[\"Plotas\"] = n[0]\n",
    "        #print(dic[\"Metai\"])\n",
    "        dic[\"Skaičius\"] = n[1]\n",
    "        #print(dic[\"Plotas\"])\n",
    "        dic[\"Metai\"] = n[2]\n",
    "        #print(dic[\"Skaičius\"])\n",
    "        dic[\"Url\"] = q\n",
    "        KU.append(dic)\n",
    "\n",
    "print(KU)"
   ]
  },
  {
   "cell_type": "code",
   "execution_count": 72,
   "metadata": {},
   "outputs": [],
   "source": [
    "# kad pandas rodytų pilną Url link'ą\n",
    "pd.set_option('display.max_colwidth-1)\n",
    "', \n",
    "# print(KU[0])\n",
    "# išsaugojame duomenis į SQL duomenų bazę\n",
    "conn = sqlite3.connect(\"Alio.db\")\n",
    "cur = conn.cursor()\n",
    "cur.execute(\"CREATE TABLE IF NOT EXISTS Butai (Kaina INTERGER, Metai INTERGER, Plotas INTERGER, Skaičius INTERGER, Url TEXT)\")\n",
    "\n",
    "for v in KU:\n",
    "    cur.execute(\"INSERT INTO Butai (Kaina, Metai, Plotas, Skaičius, Url) VALUES (?,?,?,?,?)\", \n",
    "               (v[\"Kaina\"], v[\"Metai\"], v[\"Plotas\"], v[\"Skaičius\"], v[\"Url\"]))\n",
    "\n",
    "conn.commit()\n",
    "conn.close()"
   ]
  },
  {
   "cell_type": "code",
   "execution_count": null,
   "metadata": {},
   "outputs": [],
   "source": []
  },
  {
   "cell_type": "code",
   "execution_count": null,
   "metadata": {},
   "outputs": [],
   "source": []
  },
  {
   "cell_type": "code",
   "execution_count": null,
   "metadata": {},
   "outputs": [],
   "source": []
  },
  {
   "cell_type": "code",
   "execution_count": null,
   "metadata": {},
   "outputs": [],
   "source": []
  },
  {
   "cell_type": "code",
   "execution_count": 62,
   "metadata": {},
   "outputs": [
    {
     "name": "stdout",
     "output_type": "stream",
     "text": [
      "Pigiausias variantas 5400 https://www.alio.lt/skelbimai/1-kamb-butas-siauliai-siauliai-tilzes-g/ID57649778.html\n",
      "Brangusias variantas 290000 https://www.alio.lt/skelbimai/5-kamb-butas-palanga-palanga-mokyklos-g/ID55015985.html\n"
     ]
    }
   ],
   "source": [
    "# sukuriam pandas dataframe ir atrenkam reikiamus duomenis: pig. ir brang. kainą bei url link'ą, kad būtų galima iš kartą patikrinti\n",
    "df = pd.DataFrame(KU)\n",
    "\n",
    "print(\"Pigiausias variantas \"+str(df['Kaina'].min())+\" \"+str(list(df.loc[df['Kaina'].idxmin()])[-1]))\n",
    "print(\"Brangusias variantas \"+str(df[\"Kaina\"].max())+\" \"+str(list(df.loc[df['Kaina'].idxmax()])[-1]))"
   ]
  },
  {
   "cell_type": "code",
   "execution_count": null,
   "metadata": {},
   "outputs": [],
   "source": []
  }
 ],
 "metadata": {
  "kernelspec": {
   "display_name": "Python [default]",
   "language": "python",
   "name": "python3"
  },
  "language_info": {
   "codemirror_mode": {
    "name": "ipython",
    "version": 3
   },
   "file_extension": ".py",
   "mimetype": "text/x-python",
   "name": "python",
   "nbconvert_exporter": "python",
   "pygments_lexer": "ipython3",
   "version": "3.5.4"
  }
 },
 "nbformat": 4,
 "nbformat_minor": 2
}
