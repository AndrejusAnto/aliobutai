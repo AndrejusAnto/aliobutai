{
 "cells": [
  {
   "cell_type": "code",
   "execution_count": 1,
   "metadata": {},
   "outputs": [],
   "source": [
    "#!/usr/bin/env python3\n",
    "# -*- coding: utf-8 -*- "
   ]
  },
  {
   "cell_type": "code",
   "execution_count": 2,
   "metadata": {},
   "outputs": [],
   "source": [
    "import sqlite3\n",
    "import re"
   ]
  },
  {
   "cell_type": "code",
   "execution_count": 3,
   "metadata": {},
   "outputs": [],
   "source": [
    "import requests\n",
    "from bs4 import BeautifulSoup\n",
    "import pandas as pd\n",
    "\n",
    "\n",
    "K = []\n",
    "L = []\n",
    "KU = []\n",
    "L1 = []"
   ]
  },
  {
   "cell_type": "code",
   "execution_count": 4,
   "metadata": {},
   "outputs": [
    {
     "name": "stdout",
     "output_type": "stream",
     "text": [
      "ab ['30 m² ', '  1 kamb. ']\n",
      "ab ['90 m² ', '  3 kamb. ']\n",
      "ab ['65 m² ', '  3 kamb. ']\n",
      "ab ['22 m² ', '  1 kamb. ']\n",
      "ab ['79 m² ', '  3 kamb. ']\n",
      "ab ['150 m² ', '  3 kamb. ']\n",
      "ab ['48 m² ', '  2 kamb. ']\n",
      "ab ['22 m² ', '  1 kamb. ']\n",
      "ab ['50 m² ', '  2 kamb. ']\n",
      "ab ['48 m² ', '  2 kamb. ']\n",
      "ab ['92 m² ', '  6 kamb. ']\n",
      "ab ['30 m² ', '  1 kamb. ']\n",
      "ab ['66 m² ', '  3 kamb. ']\n",
      "ab ['22 m² ', '  1 kamb. ']\n",
      "ab ['50 m² ', '  2 kamb. ']\n",
      "ab ['48 m² ', '  2 kamb. ']\n",
      "ab ['92 m² ', '  6 kamb. ']\n",
      "ab ['30 m² ', '  1 kamb. ']\n",
      "ab ['50 m² ', '  2 kamb. ']\n",
      "ab ['50 m² ', '  2 kamb. ']\n",
      "ab ['36 m² ', '  2 kamb. ']\n",
      "[{'Kaina': 31000, 'Plotas': '50', 'Skaičius': '2', 'Metai': '1974', 'Url': 'https://www.alio.lt/skelbimai/2-kamb-butas-panevezys-panevezys-zemaiciu-g/ID57864398.html'}, {'Kaina': 16000, 'Plotas': '41.62', 'Skaičius': '2', 'Metai': '1959', 'Url': 'https://www.alio.lt/skelbimai/2-kamb-butas-radviliskio-r-sav-radviliskis-gedimino-g/ID57798338.html'}, {'Kaina': 25000, 'Plotas': '50', 'Skaičius': '2', 'Metai': '1983', 'Url': 'https://www.alio.lt/skelbimai/2-kamb-butas-telsiu-r-sav-telsiai-vilniaus-g/ID57799074.html'}, {'Kaina': 27500, 'Plotas': '65', 'Skaičius': '3', 'Metai': '1970', 'Url': 'https://www.alio.lt/skelbimai/3-kamb-butas-alytus-alytus-vingio-g/ID57789738.html'}, {'Kaina': 25000, 'Plotas': '54', 'Skaičius': '2', 'Metai': '2003', 'Url': 'https://www.alio.lt/skelbimai/2-kamb-butas-alytus-alytus-aukstakalnio-g/ID57793696.html'}, {'Kaina': 48000, 'Plotas': '43', 'Skaičius': '2', 'Metai': '1967', 'Url': 'https://www.alio.lt/skelbimai/2-kamb-butas-klaipeda/ID57874722.html'}, {'Kaina': 23500, 'Plotas': '24', 'Skaičius': '1', 'Metai': '1986', 'Url': 'https://www.alio.lt/skelbimai/1-kamb-butas-vilnius-verkiai-verkiu-g/ID57766156.html'}, {'Kaina': 55000, 'Plotas': '62.15', 'Skaičius': '3', 'Metai': '1976', 'Url': 'https://www.alio.lt/skelbimai/3-kamb-butas-siauliai-siauliai-krymo-g/ID57872614.html'}, {'Kaina': 11000, 'Plotas': '67', 'Skaičius': '3', 'Metai': '1993', 'Url': 'https://www.alio.lt/skelbimai/3-kamb-butas-jonavos-r-sav-rukla-rupeikio-g/ID57354156.html'}, {'Kaina': 197500, 'Plotas': '89.85', 'Skaičius': '3', 'Metai': '2007', 'Url': 'https://www.alio.lt/skelbimai/3-kamb-butas-vilnius-karoliniskes-i-simulionio-g/ID57857618.html'}, {'Kaina': 33000, 'Plotas': '29.2', 'Skaičius': '1', 'Metai': '1974', 'Url': 'https://www.alio.lt/skelbimai/1-kamb-butas-vilnius-naujoji-vilnia-geniu-g/ID57481766.html'}, {'Kaina': 18000, 'Plotas': '65', 'Skaičius': '3', 'Metai': '1945', 'Url': 'https://www.alio.lt/skelbimai/3-kamb-butas-alytus-alytus-ulonu-g/ID57534848.html'}, {'Kaina': 75000, 'Plotas': '78', 'Skaičius': '3', 'Metai': '1992', 'Url': 'https://www.alio.lt/skelbimai/3-kamb-butas-klaipeda/ID57099982.html'}, {'Kaina': 6300, 'Plotas': '79', 'Skaičius': '4', 'Metai': '1985', 'Url': 'https://www.alio.lt/skelbimai/4-kamb-butas-kedainiu-r-sav-kunioniai-liepu-g/ID56709738.html'}, {'Kaina': 33823, 'Plotas': '51.15', 'Skaičius': '3', 'Metai': '2008', 'Url': 'https://www.alio.lt/skelbimai/3-kamb-butas-alytus-alytus-santaikos-g/ID57128490.html'}, {'Kaina': 25000, 'Plotas': '24', 'Skaičius': '1', 'Metai': '1990', 'Url': 'https://www.alio.lt/skelbimai/1-kamb-butas-vilnius-snipiskes-kalvariju-g/ID57896622.html'}, {'Kaina': 36500, 'Plotas': '57', 'Skaičius': '3', 'Metai': '1980', 'Url': 'https://www.alio.lt/skelbimai/3-kamb-butas-siauliai-siauliai-aukstoji-g/ID57789022.html'}, {'Kaina': 29900, 'Plotas': '29.01', 'Skaičius': '1', 'Metai': '1964', 'Url': 'https://www.alio.lt/skelbimai/1-kamb-butas-siauliai-siauliai-p-cvirkos-g/ID57354806.html'}, {'Kaina': 77000, 'Plotas': '53', 'Skaičius': '2', 'Metai': '1956', 'Url': 'https://www.alio.lt/skelbimai/2-kamb-butas-siauliai-siauliai-vilniaus-g/ID57296410.html'}, {'Kaina': 11500, 'Plotas': '81.08', 'Skaičius': '4', 'Metai': '1988', 'Url': 'https://www.alio.lt/skelbimai/4-kamb-butas-ignalinos-r-sav-vidiskes-melioratoriu-g/ID56800344.html'}, {'Kaina': 31990, 'Plotas': '30', 'Skaičius': '1', 'Metai': '1989', 'Url': 'https://www.alio.lt/skelbimai/1-kamb-butas-vilniaus-r-sav-skaidiskes-sodu-g/ID57689652.html'}, {'Kaina': 13000, 'Plotas': '70', 'Skaičius': '2', 'Metai': '1967', 'Url': 'https://www.alio.lt/skelbimai/2-kamb-butas-telsiu-r-sav-kirkliai-lesiku-g/ID56226584.html'}, {'Kaina': 39500, 'Plotas': '44.4', 'Skaičius': '2', 'Metai': '1974', 'Url': 'https://www.alio.lt/skelbimai/2-kamb-butas-kaunas-dainava-v-kreves-pr/ID57496094.html'}, {'Kaina': 25000, 'Plotas': '28', 'Skaičius': '1', 'Metai': '1975', 'Url': 'https://www.alio.lt/skelbimai/1-kamb-butas-kaunas-dainava-taikos-pr/ID57055782.html'}, {'Kaina': 31650, 'Plotas': '45', 'Skaičius': '2', 'Metai': '1967', 'Url': 'https://www.alio.lt/skelbimai/2-kamb-butas-kaunas-vilijampole-varniu-g/ID57829874.html'}, {'Kaina': 31000, 'Plotas': '50', 'Skaičius': '2', 'Metai': '1974', 'Url': 'https://www.alio.lt/skelbimai/2-kamb-butas-panevezys-panevezys-zemaiciu-g/ID57864398.html'}, {'Kaina': 16000, 'Plotas': '41.62', 'Skaičius': '2', 'Metai': '1959', 'Url': 'https://www.alio.lt/skelbimai/2-kamb-butas-radviliskio-r-sav-radviliskis-gedimino-g/ID57798338.html'}, {'Kaina': 25000, 'Plotas': '50', 'Skaičius': '2', 'Metai': '1983', 'Url': 'https://www.alio.lt/skelbimai/2-kamb-butas-telsiu-r-sav-telsiai-vilniaus-g/ID57799074.html'}, {'Kaina': 27500, 'Plotas': '65', 'Skaičius': '3', 'Metai': '1970', 'Url': 'https://www.alio.lt/skelbimai/3-kamb-butas-alytus-alytus-vingio-g/ID57789738.html'}, {'Kaina': 25000, 'Plotas': '54', 'Skaičius': '2', 'Metai': '2003', 'Url': 'https://www.alio.lt/skelbimai/2-kamb-butas-alytus-alytus-aukstakalnio-g/ID57793696.html'}, {'Kaina': 48000, 'Plotas': '43', 'Skaičius': '2', 'Metai': '1967', 'Url': 'https://www.alio.lt/skelbimai/2-kamb-butas-klaipeda/ID57874722.html'}, {'Kaina': 23500, 'Plotas': '24', 'Skaičius': '1', 'Metai': '1986', 'Url': 'https://www.alio.lt/skelbimai/1-kamb-butas-vilnius-verkiai-verkiu-g/ID57766156.html'}, {'Kaina': 55000, 'Plotas': '62.15', 'Skaičius': '3', 'Metai': '1976', 'Url': 'https://www.alio.lt/skelbimai/3-kamb-butas-siauliai-siauliai-krymo-g/ID57872614.html'}, {'Kaina': 11000, 'Plotas': '67', 'Skaičius': '3', 'Metai': '1993', 'Url': 'https://www.alio.lt/skelbimai/3-kamb-butas-jonavos-r-sav-rukla-rupeikio-g/ID57354156.html'}, {'Kaina': 197500, 'Plotas': '89.85', 'Skaičius': '3', 'Metai': '2007', 'Url': 'https://www.alio.lt/skelbimai/3-kamb-butas-vilnius-karoliniskes-i-simulionio-g/ID57857618.html'}, {'Kaina': 33000, 'Plotas': '29.2', 'Skaičius': '1', 'Metai': '1974', 'Url': 'https://www.alio.lt/skelbimai/1-kamb-butas-vilnius-naujoji-vilnia-geniu-g/ID57481766.html'}, {'Kaina': 18000, 'Plotas': '65', 'Skaičius': '3', 'Metai': '1945', 'Url': 'https://www.alio.lt/skelbimai/3-kamb-butas-alytus-alytus-ulonu-g/ID57534848.html'}, {'Kaina': 75000, 'Plotas': '78', 'Skaičius': '3', 'Metai': '1992', 'Url': 'https://www.alio.lt/skelbimai/3-kamb-butas-klaipeda/ID57099982.html'}, {'Kaina': 6300, 'Plotas': '79', 'Skaičius': '4', 'Metai': '1985', 'Url': 'https://www.alio.lt/skelbimai/4-kamb-butas-kedainiu-r-sav-kunioniai-liepu-g/ID56709738.html'}, {'Kaina': 33823, 'Plotas': '51.15', 'Skaičius': '3', 'Metai': '2008', 'Url': 'https://www.alio.lt/skelbimai/3-kamb-butas-alytus-alytus-santaikos-g/ID57128490.html'}, {'Kaina': 25000, 'Plotas': '24', 'Skaičius': '1', 'Metai': '1990', 'Url': 'https://www.alio.lt/skelbimai/1-kamb-butas-vilnius-snipiskes-kalvariju-g/ID57896622.html'}, {'Kaina': 36500, 'Plotas': '57', 'Skaičius': '3', 'Metai': '1980', 'Url': 'https://www.alio.lt/skelbimai/3-kamb-butas-siauliai-siauliai-aukstoji-g/ID57789022.html'}, {'Kaina': 29900, 'Plotas': '29.01', 'Skaičius': '1', 'Metai': '1964', 'Url': 'https://www.alio.lt/skelbimai/1-kamb-butas-siauliai-siauliai-p-cvirkos-g/ID57354806.html'}, {'Kaina': 77000, 'Plotas': '53', 'Skaičius': '2', 'Metai': '1956', 'Url': 'https://www.alio.lt/skelbimai/2-kamb-butas-siauliai-siauliai-vilniaus-g/ID57296410.html'}, {'Kaina': 11500, 'Plotas': '81.08', 'Skaičius': '4', 'Metai': '1988', 'Url': 'https://www.alio.lt/skelbimai/4-kamb-butas-ignalinos-r-sav-vidiskes-melioratoriu-g/ID56800344.html'}, {'Kaina': 31990, 'Plotas': '30', 'Skaičius': '1', 'Metai': '1989', 'Url': 'https://www.alio.lt/skelbimai/1-kamb-butas-vilniaus-r-sav-skaidiskes-sodu-g/ID57689652.html'}, {'Kaina': 13000, 'Plotas': '70', 'Skaičius': '2', 'Metai': '1967', 'Url': 'https://www.alio.lt/skelbimai/2-kamb-butas-telsiu-r-sav-kirkliai-lesiku-g/ID56226584.html'}, {'Kaina': 39500, 'Plotas': '44.4', 'Skaičius': '2', 'Metai': '1974', 'Url': 'https://www.alio.lt/skelbimai/2-kamb-butas-kaunas-dainava-v-kreves-pr/ID57496094.html'}, {'Kaina': 25000, 'Plotas': '28', 'Skaičius': '1', 'Metai': '1975', 'Url': 'https://www.alio.lt/skelbimai/1-kamb-butas-kaunas-dainava-taikos-pr/ID57055782.html'}, {'Kaina': 31650, 'Plotas': '45', 'Skaičius': '2', 'Metai': '1967', 'Url': 'https://www.alio.lt/skelbimai/2-kamb-butas-kaunas-vilijampole-varniu-g/ID57829874.html'}, {'Kaina': 29500, 'Plotas': '29', 'Skaičius': '1', 'Metai': '1974', 'Url': 'https://www.alio.lt/skelbimai/1-kamb-butas-kaunas-dainava-partizanu-g/ID57722884.html'}, {'Kaina': 359000, 'Plotas': '63', 'Skaičius': '2', 'Metai': '2013', 'Url': 'https://www.alio.lt/skelbimai/2-kamb-butas-palanga-palanga-birutes-al/ID55740047.html'}, {'Kaina': 47000, 'Plotas': '62', 'Skaičius': '3', 'Metai': '1985', 'Url': 'https://www.alio.lt/skelbimai/3-kamb-butas-palanga-palanga-sodu-g/ID56766872.html'}, {'Kaina': 26500, 'Plotas': '21', 'Skaičius': '1', 'Metai': '1992', 'Url': 'https://www.alio.lt/skelbimai/1-kamb-butas-palanga-palanga-medvalakio-g/ID56853962.html'}, {'Kaina': 46000, 'Plotas': '25', 'Skaičius': '1', 'Metai': '2015', 'Url': 'https://www.alio.lt/skelbimai/1-kamb-butas-palanga-palanga-pirties-g/ID56246740.html'}, {'Kaina': 63900, 'Plotas': '47', 'Skaičius': '2', 'Metai': '2007', 'Url': 'https://www.alio.lt/skelbimai/2-kamb-butas-palanga-palanga-veziu-g/ID56183260.html'}, {'Kaina': 62000, 'Plotas': '30', 'Skaičius': '1', 'Metai': 0, 'Url': 'https://www.alio.lt/skelbimai/1-kamb-butas-palanga-palanga-vanagupes-g/ID54799329.html'}, {'Kaina': 63000, 'Plotas': '48', 'Skaičius': '2', 'Metai': '1974', 'Url': 'https://www.alio.lt/skelbimai/2-kamb-butas-palanga-palanga-jurates-g/ID56374514.html'}, {'Kaina': 198000, 'Plotas': '90', 'Skaičius': '3', 'Metai': 0, 'Url': 'https://www.alio.lt/skelbimai/3-kamb-butas-palanga-palanga-medziotoju-g/ID55792629.html'}, {'Kaina': 32000, 'Plotas': '29', 'Skaičius': '1', 'Metai': '1974', 'Url': 'https://www.alio.lt/skelbimai/1-kamb-butas-kretingos-r-sav-kretinga-zemaiciu-g/ID57645064.html'}, {'Kaina': 67000, 'Plotas': '64', 'Skaičius': '3', 'Metai': '1970', 'Url': 'https://www.alio.lt/skelbimai/3-kamb-butas-palanga-palanga-zveju-g/ID57442580.html'}, {'Kaina': 77000, 'Plotas': '39', 'Skaičius': '2', 'Metai': '2000', 'Url': 'https://www.alio.lt/skelbimai/2-kamb-butas-palanga-palanga-plytu-g/ID55829269.html'}, {'Kaina': 83000, 'Plotas': '65', 'Skaičius': '3', 'Metai': 0, 'Url': 'https://www.alio.lt/skelbimai/3-kamb-butas-palanga-palanga-j-janonio-g/ID56411672.html'}, {'Kaina': 37000, 'Plotas': '22', 'Skaičius': '1', 'Metai': 0, 'Url': 'https://www.alio.lt/skelbimai/1-kamb-butas-palanga-palanga-vanagupes-g/ID56300076.html'}, {'Kaina': 75000, 'Plotas': '62', 'Skaičius': '3', 'Metai': '1974', 'Url': 'https://www.alio.lt/skelbimai/3-kamb-butas-palanga-palanga-gintaro-g/ID56520760.html'}, {'Kaina': 85000, 'Plotas': '79', 'Skaičius': '3', 'Metai': 0, 'Url': 'https://www.alio.lt/skelbimai/3-kamb-butas-palanga-palanga-vanagupes-g/ID52993860.html'}, {'Kaina': 101367, 'Plotas': '150', 'Skaičius': '3', 'Metai': 0, 'Url': 'https://www.alio.lt/skelbimai/3-kamb-butas-palanga-palanga-virbaliskes-takas/ID53060681.html'}, {'Kaina': 66000, 'Plotas': '48', 'Skaičius': '2', 'Metai': 0, 'Url': 'https://www.alio.lt/skelbimai/2-kamb-butas-palanga-palanga-bangu-g/ID55624529.html'}, {'Kaina': 30000, 'Plotas': '35', 'Skaičius': '1', 'Metai': '2006', 'Url': 'https://www.alio.lt/skelbimai/1-kamb-butas-palanga-sventosios-lieknu-g/ID57083240.html'}, {'Kaina': 27300, 'Plotas': '22', 'Skaičius': '1', 'Metai': 0, 'Url': 'https://www.alio.lt/skelbimai/1-kamb-butas-palanga-palanga-vanagupes-g/ID55065979.html'}, {'Kaina': 74000, 'Plotas': '44', 'Skaičius': '2', 'Metai': '1966', 'Url': 'https://www.alio.lt/skelbimai/2-kamb-butas-palanga-palanga-s-neries-g/ID54799235.html'}, {'Kaina': 77000, 'Plotas': '50', 'Skaičius': '2', 'Metai': 0, 'Url': 'https://www.alio.lt/skelbimai/2-kamb-butas-palanga-palanga-vytauto-g/ID54613141.html'}, {'Kaina': 62000, 'Plotas': '48', 'Skaičius': '2', 'Metai': 0, 'Url': 'https://www.alio.lt/skelbimai/2-kamb-butas-palanga-palanga-ganyklu-g/ID56033455.html'}, {'Kaina': 50000, 'Plotas': '92', 'Skaičius': '6', 'Metai': 0, 'Url': 'https://www.alio.lt/skelbimai/6-kamb-butas-palanga-palanga-maluno-g/ID55992759.html'}, {'Kaina': 54000, 'Plotas': '30', 'Skaičius': '1', 'Metai': 0, 'Url': 'https://www.alio.lt/skelbimai/1-kamb-butas-palanga-palanga-senojo-turgaus-g/ID56033467.html'}, {'Kaina': 31000, 'Plotas': '50', 'Skaičius': '2', 'Metai': '1974', 'Url': 'https://www.alio.lt/skelbimai/2-kamb-butas-panevezys-panevezys-zemaiciu-g/ID57864398.html'}, {'Kaina': 16000, 'Plotas': '41.62', 'Skaičius': '2', 'Metai': '1959', 'Url': 'https://www.alio.lt/skelbimai/2-kamb-butas-radviliskio-r-sav-radviliskis-gedimino-g/ID57798338.html'}, {'Kaina': 25000, 'Plotas': '50', 'Skaičius': '2', 'Metai': '1983', 'Url': 'https://www.alio.lt/skelbimai/2-kamb-butas-telsiu-r-sav-telsiai-vilniaus-g/ID57799074.html'}, {'Kaina': 27500, 'Plotas': '65', 'Skaičius': '3', 'Metai': '1970', 'Url': 'https://www.alio.lt/skelbimai/3-kamb-butas-alytus-alytus-vingio-g/ID57789738.html'}, {'Kaina': 25000, 'Plotas': '54', 'Skaičius': '2', 'Metai': '2003', 'Url': 'https://www.alio.lt/skelbimai/2-kamb-butas-alytus-alytus-aukstakalnio-g/ID57793696.html'}, {'Kaina': 48000, 'Plotas': '43', 'Skaičius': '2', 'Metai': '1967', 'Url': 'https://www.alio.lt/skelbimai/2-kamb-butas-klaipeda/ID57874722.html'}, {'Kaina': 23500, 'Plotas': '24', 'Skaičius': '1', 'Metai': '1986', 'Url': 'https://www.alio.lt/skelbimai/1-kamb-butas-vilnius-verkiai-verkiu-g/ID57766156.html'}, {'Kaina': 55000, 'Plotas': '62.15', 'Skaičius': '3', 'Metai': '1976', 'Url': 'https://www.alio.lt/skelbimai/3-kamb-butas-siauliai-siauliai-krymo-g/ID57872614.html'}, {'Kaina': 11000, 'Plotas': '67', 'Skaičius': '3', 'Metai': '1993', 'Url': 'https://www.alio.lt/skelbimai/3-kamb-butas-jonavos-r-sav-rukla-rupeikio-g/ID57354156.html'}, {'Kaina': 197500, 'Plotas': '89.85', 'Skaičius': '3', 'Metai': '2007', 'Url': 'https://www.alio.lt/skelbimai/3-kamb-butas-vilnius-karoliniskes-i-simulionio-g/ID57857618.html'}, {'Kaina': 33000, 'Plotas': '29.2', 'Skaičius': '1', 'Metai': '1974', 'Url': 'https://www.alio.lt/skelbimai/1-kamb-butas-vilnius-naujoji-vilnia-geniu-g/ID57481766.html'}, {'Kaina': 18000, 'Plotas': '65', 'Skaičius': '3', 'Metai': '1945', 'Url': 'https://www.alio.lt/skelbimai/3-kamb-butas-alytus-alytus-ulonu-g/ID57534848.html'}, {'Kaina': 75000, 'Plotas': '78', 'Skaičius': '3', 'Metai': '1992', 'Url': 'https://www.alio.lt/skelbimai/3-kamb-butas-klaipeda/ID57099982.html'}, {'Kaina': 6300, 'Plotas': '79', 'Skaičius': '4', 'Metai': '1985', 'Url': 'https://www.alio.lt/skelbimai/4-kamb-butas-kedainiu-r-sav-kunioniai-liepu-g/ID56709738.html'}, {'Kaina': 33823, 'Plotas': '51.15', 'Skaičius': '3', 'Metai': '2008', 'Url': 'https://www.alio.lt/skelbimai/3-kamb-butas-alytus-alytus-santaikos-g/ID57128490.html'}, {'Kaina': 25000, 'Plotas': '24', 'Skaičius': '1', 'Metai': '1990', 'Url': 'https://www.alio.lt/skelbimai/1-kamb-butas-vilnius-snipiskes-kalvariju-g/ID57896622.html'}, {'Kaina': 36500, 'Plotas': '57', 'Skaičius': '3', 'Metai': '1980', 'Url': 'https://www.alio.lt/skelbimai/3-kamb-butas-siauliai-siauliai-aukstoji-g/ID57789022.html'}, {'Kaina': 29900, 'Plotas': '29.01', 'Skaičius': '1', 'Metai': '1964', 'Url': 'https://www.alio.lt/skelbimai/1-kamb-butas-siauliai-siauliai-p-cvirkos-g/ID57354806.html'}, {'Kaina': 77000, 'Plotas': '53', 'Skaičius': '2', 'Metai': '1956', 'Url': 'https://www.alio.lt/skelbimai/2-kamb-butas-siauliai-siauliai-vilniaus-g/ID57296410.html'}, {'Kaina': 11500, 'Plotas': '81.08', 'Skaičius': '4', 'Metai': '1988', 'Url': 'https://www.alio.lt/skelbimai/4-kamb-butas-ignalinos-r-sav-vidiskes-melioratoriu-g/ID56800344.html'}, {'Kaina': 31990, 'Plotas': '30', 'Skaičius': '1', 'Metai': '1989', 'Url': 'https://www.alio.lt/skelbimai/1-kamb-butas-vilniaus-r-sav-skaidiskes-sodu-g/ID57689652.html'}, {'Kaina': 13000, 'Plotas': '70', 'Skaičius': '2', 'Metai': '1967', 'Url': 'https://www.alio.lt/skelbimai/2-kamb-butas-telsiu-r-sav-kirkliai-lesiku-g/ID56226584.html'}, {'Kaina': 39500, 'Plotas': '44.4', 'Skaičius': '2', 'Metai': '1974', 'Url': 'https://www.alio.lt/skelbimai/2-kamb-butas-kaunas-dainava-v-kreves-pr/ID57496094.html'}, {'Kaina': 25000, 'Plotas': '28', 'Skaičius': '1', 'Metai': '1975', 'Url': 'https://www.alio.lt/skelbimai/1-kamb-butas-kaunas-dainava-taikos-pr/ID57055782.html'}, {'Kaina': 31650, 'Plotas': '45', 'Skaičius': '2', 'Metai': '1967', 'Url': 'https://www.alio.lt/skelbimai/2-kamb-butas-kaunas-vilijampole-varniu-g/ID57829874.html'}, {'Kaina': 29500, 'Plotas': '29', 'Skaičius': '1', 'Metai': '1974', 'Url': 'https://www.alio.lt/skelbimai/1-kamb-butas-kaunas-dainava-partizanu-g/ID57722884.html'}, {'Kaina': 359000, 'Plotas': '63', 'Skaičius': '2', 'Metai': '2013', 'Url': 'https://www.alio.lt/skelbimai/2-kamb-butas-palanga-palanga-birutes-al/ID55740047.html'}, {'Kaina': 47000, 'Plotas': '62', 'Skaičius': '3', 'Metai': '1985', 'Url': 'https://www.alio.lt/skelbimai/3-kamb-butas-palanga-palanga-sodu-g/ID56766872.html'}, {'Kaina': 26500, 'Plotas': '21', 'Skaičius': '1', 'Metai': '1992', 'Url': 'https://www.alio.lt/skelbimai/1-kamb-butas-palanga-palanga-medvalakio-g/ID56853962.html'}, {'Kaina': 46000, 'Plotas': '25', 'Skaičius': '1', 'Metai': '2015', 'Url': 'https://www.alio.lt/skelbimai/1-kamb-butas-palanga-palanga-pirties-g/ID56246740.html'}, {'Kaina': 63900, 'Plotas': '47', 'Skaičius': '2', 'Metai': '2007', 'Url': 'https://www.alio.lt/skelbimai/2-kamb-butas-palanga-palanga-veziu-g/ID56183260.html'}, {'Kaina': 62000, 'Plotas': '30', 'Skaičius': '1', 'Metai': 0, 'Url': 'https://www.alio.lt/skelbimai/1-kamb-butas-palanga-palanga-vanagupes-g/ID54799329.html'}, {'Kaina': 63000, 'Plotas': '48', 'Skaičius': '2', 'Metai': '1974', 'Url': 'https://www.alio.lt/skelbimai/2-kamb-butas-palanga-palanga-jurates-g/ID56374514.html'}, {'Kaina': 198000, 'Plotas': '90', 'Skaičius': '3', 'Metai': 0, 'Url': 'https://www.alio.lt/skelbimai/3-kamb-butas-palanga-palanga-medziotoju-g/ID55792629.html'}, {'Kaina': 32000, 'Plotas': '29', 'Skaičius': '1', 'Metai': '1974', 'Url': 'https://www.alio.lt/skelbimai/1-kamb-butas-kretingos-r-sav-kretinga-zemaiciu-g/ID57645064.html'}, {'Kaina': 67000, 'Plotas': '64', 'Skaičius': '3', 'Metai': '1970', 'Url': 'https://www.alio.lt/skelbimai/3-kamb-butas-palanga-palanga-zveju-g/ID57442580.html'}, {'Kaina': 77000, 'Plotas': '39', 'Skaičius': '2', 'Metai': '2000', 'Url': 'https://www.alio.lt/skelbimai/2-kamb-butas-palanga-palanga-plytu-g/ID55829269.html'}, {'Kaina': 83000, 'Plotas': '65', 'Skaičius': '3', 'Metai': 0, 'Url': 'https://www.alio.lt/skelbimai/3-kamb-butas-palanga-palanga-j-janonio-g/ID56411672.html'}, {'Kaina': 37000, 'Plotas': '22', 'Skaičius': '1', 'Metai': 0, 'Url': 'https://www.alio.lt/skelbimai/1-kamb-butas-palanga-palanga-vanagupes-g/ID56300076.html'}, {'Kaina': 75000, 'Plotas': '62', 'Skaičius': '3', 'Metai': '1974', 'Url': 'https://www.alio.lt/skelbimai/3-kamb-butas-palanga-palanga-gintaro-g/ID56520760.html'}, {'Kaina': 85000, 'Plotas': '79', 'Skaičius': '3', 'Metai': 0, 'Url': 'https://www.alio.lt/skelbimai/3-kamb-butas-palanga-palanga-vanagupes-g/ID52993860.html'}, {'Kaina': 101367, 'Plotas': '150', 'Skaičius': '3', 'Metai': 0, 'Url': 'https://www.alio.lt/skelbimai/3-kamb-butas-palanga-palanga-virbaliskes-takas/ID53060681.html'}, {'Kaina': 66000, 'Plotas': '48', 'Skaičius': '2', 'Metai': 0, 'Url': 'https://www.alio.lt/skelbimai/2-kamb-butas-palanga-palanga-bangu-g/ID55624529.html'}, {'Kaina': 30000, 'Plotas': '35', 'Skaičius': '1', 'Metai': '2006', 'Url': 'https://www.alio.lt/skelbimai/1-kamb-butas-palanga-sventosios-lieknu-g/ID57083240.html'}, {'Kaina': 27300, 'Plotas': '22', 'Skaičius': '1', 'Metai': 0, 'Url': 'https://www.alio.lt/skelbimai/1-kamb-butas-palanga-palanga-vanagupes-g/ID55065979.html'}, {'Kaina': 74000, 'Plotas': '44', 'Skaičius': '2', 'Metai': '1966', 'Url': 'https://www.alio.lt/skelbimai/2-kamb-butas-palanga-palanga-s-neries-g/ID54799235.html'}, {'Kaina': 77000, 'Plotas': '50', 'Skaičius': '2', 'Metai': 0, 'Url': 'https://www.alio.lt/skelbimai/2-kamb-butas-palanga-palanga-vytauto-g/ID54613141.html'}, {'Kaina': 62000, 'Plotas': '48', 'Skaičius': '2', 'Metai': 0, 'Url': 'https://www.alio.lt/skelbimai/2-kamb-butas-palanga-palanga-ganyklu-g/ID56033455.html'}, {'Kaina': 50000, 'Plotas': '92', 'Skaičius': '6', 'Metai': 0, 'Url': 'https://www.alio.lt/skelbimai/6-kamb-butas-palanga-palanga-maluno-g/ID55992759.html'}, {'Kaina': 54000, 'Plotas': '30', 'Skaičius': '1', 'Metai': 0, 'Url': 'https://www.alio.lt/skelbimai/1-kamb-butas-palanga-palanga-senojo-turgaus-g/ID56033467.html'}, {'Kaina': 58500, 'Plotas': '66.6', 'Skaičius': '3', 'Metai': '1993', 'Url': 'https://www.alio.lt/skelbimai/3-kamb-butas-palanga-palanga-vasaros-g/ID55072093.html'}, {'Kaina': 159291, 'Plotas': '66', 'Skaičius': '3', 'Metai': 0, 'Url': 'https://www.alio.lt/skelbimai/3-kamb-butas-palanga-palanga-smilciu-g/ID54102371.html'}, {'Kaina': 30000, 'Plotas': '35', 'Skaičius': '1', 'Metai': '2006', 'Url': 'https://www.alio.lt/skelbimai/1-kamb-butas-palanga-palanga-vanagupes-g/ID56296162.html'}, {'Kaina': 27300, 'Plotas': '22', 'Skaičius': '1', 'Metai': 0, 'Url': 'https://www.alio.lt/skelbimai/1-kamb-butas-palanga-palanga-zemaiciu-g/ID54799355.html'}, {'Kaina': 74000, 'Plotas': '44', 'Skaičius': '2', 'Metai': '1966', 'Url': 'https://www.alio.lt/skelbimai/2-kamb-butas-silutes-r-sav-silute-kestucio-g/ID56204876.html'}, {'Kaina': 77000, 'Plotas': '50', 'Skaičius': '2', 'Metai': 0, 'Url': 'https://www.alio.lt/skelbimai/2-kamb-butas-klaipeda/ID52064636.html'}, {'Kaina': 62000, 'Plotas': '48', 'Skaičius': '2', 'Metai': 0, 'Url': 'https://www.alio.lt/skelbimai/2-kamb-butas-klaipeda/ID51964597.html'}, {'Kaina': 50000, 'Plotas': '92', 'Skaičius': '6', 'Metai': 0, 'Url': 'https://www.alio.lt/skelbimai/2-kamb-butas-vilnius-snipiskes-rinktines-g/ID57670890.html'}, {'Kaina': 54000, 'Plotas': '30', 'Skaičius': '1', 'Metai': 0, 'Url': 'https://www.alio.lt/skelbimai/1-kamb-butas-vilnius-markuciai-subaciaus-g/ID57359678.html'}, {'Kaina': 49500, 'Plotas': '26', 'Skaičius': '1', 'Metai': '2008', 'Url': 'https://www.alio.lt/skelbimai/1-kamb-butas-visagino-sav-visaginas-tarybu-g/ID57666624.html'}, {'Kaina': 58000, 'Plotas': '34', 'Skaičius': '1', 'Metai': '2007', 'Url': 'https://www.alio.lt/skelbimai/2-kamb-butas-visagino-sav-visaginas-taikos-pr/ID57317264.html'}, {'Kaina': 32000, 'Plotas': '55', 'Skaičius': '2', 'Metai': '1985', 'Url': 'https://www.alio.lt/skelbimai/3-kamb-butas-klaipeda-baltijos-baltijos-pr/ID57784356.html'}, {'Kaina': 69500, 'Plotas': '50', 'Skaičius': '2', 'Metai': 0, 'Url': 'https://www.alio.lt/skelbimai/3-kamb-butas-klaipeda-sportininkai-smilties-pylimo-g/ID57682526.html'}, {'Kaina': 63900, 'Plotas': '50', 'Skaičius': '2', 'Metai': 0, 'Url': 'https://www.alio.lt/skelbimai/3-kamb-butas-klaipeda-centras-sauliu-g/ID56767496.html'}, {'Kaina': 33900, 'Plotas': '36', 'Skaičius': '2', 'Metai': 0, 'Url': 'https://www.alio.lt/skelbimai/2-kamb-butas-klaipeda-banduziai-brozynu-g/ID56697502.html'}, {'Kaina': 17300, 'Plotas': '24', 'Skaičius': '1', 'Metai': '1986', 'Url': 'https://www.alio.lt/skelbimai/3-kamb-butas-klaipeda-baltijos-baltijos-pr/ID56374108.html'}, {'Kaina': 7800, 'Plotas': '38', 'Skaičius': '1', 'Metai': '1990', 'Url': 'https://www.alio.lt/skelbimai/1-kamb-butas-klaipeda-debrecenas-taikos-pr/ID57573650.html'}, {'Kaina': 7300, 'Plotas': '38', 'Skaičius': '2', 'Metai': '1990', 'Url': 'https://www.alio.lt/skelbimai/3-kamb-butas-klaipeda-zvejybos-uostas-naikupes-g/ID57573434.html'}]\n"
     ]
    }
   ],
   "source": [
    "# pagrindinis link'as, naudojant scrapinimui einant per pasiūlymų puslapius\n",
    "burl = \"http://www.alio.lt/nekilnojamas-turtas/butai/parduoda.html?page=\"\n",
    "\n",
    "# # BeautifulSoup standartinis puslapio duomenų paruošimas\n",
    "# m = requests.get(burl+\"1\")\n",
    "# d = m.content\n",
    "# soup = BeautifulSoup(d, \"html.parser\")\n",
    "\n",
    "for i in range(1,4):\n",
    "    c = requests.get(burl+str(i))\n",
    "    d = c.content\n",
    "    soup = BeautifulSoup(d, \"html.parser\")\n",
    "    a = soup.find_all(\"div\", {\"class\":\"price\"}) # Kaina\n",
    "    b = soup.find_all(\"div\", {\"class\":\"description\"}) # Kamb.skaičius, Plotis ir Metai\n",
    "    l = soup.find_all(\"a\", {\"class\":\"vertiselink cursor-pointer\"}) #Url link'as\n",
    "    \n",
    "\n",
    "# atitinakamų duomenų suradimas ir pridėjimas prie atitinkamo list'o\n",
    "    for oi in a:\n",
    "        K.append(int(oi.find(\"span\", {\"class\":\"main_price\"}).text.replace(\" \", \"\").replace(\"€\",\"\")))\n",
    "        \n",
    "    for op in b:\n",
    "        dc = []\n",
    "        if len(op.text.split(\"|\")) == 3:\n",
    "            ab = op.text.split(\"|\")\n",
    "            ab = ab[:-1]\n",
    "            print(\"ab\", ab)\n",
    "            for k in ab:\n",
    "                kb = k.split(\" \")\n",
    "                o = list(filter(None, kb))\n",
    "                dc.append(o[0])\n",
    "            dc.append(0)\n",
    "            L.append(dc)\n",
    "        else:\n",
    "            ab = op.text.split(\"|\")\n",
    "            ab = ab[:-1]\n",
    "            #print(ab)\n",
    "            for k in ab:\n",
    "                kb = k.split(\" \")\n",
    "                o = list(filter(None, kb))\n",
    "                dc.append(o[0])\n",
    "            L.append(dc)\n",
    "    \n",
    "    for h1 in l:\n",
    "        if h1[\"href\"] not in L1:\n",
    "            L1.append(h1['href'])\n",
    "\n",
    "    #pridedama reikiamus list'ų duomenis į dict, kad būtų galima vėliau panaudoti pandas \n",
    "    for p,n,q in zip(K,L,L1):\n",
    "        dic = {}\n",
    "        dic[\"Kaina\"] = p\n",
    "        #print(dic[\"Kaina\"])\n",
    "        dic[\"Plotas\"] = n[0]\n",
    "        #print(dic[\"Metai\"])\n",
    "        dic[\"Skaičius\"] = n[1]\n",
    "        #print(dic[\"Plotas\"])\n",
    "        dic[\"Metai\"] = n[2]\n",
    "        #print(dic[\"Skaičius\"])\n",
    "        dic[\"Url\"] = q\n",
    "        KU.append(dic)\n",
    "\n",
    "print(KU)"
   ]
  },
  {
   "cell_type": "code",
   "execution_count": 5,
   "metadata": {},
   "outputs": [
    {
     "ename": "SyntaxError",
     "evalue": "EOL while scanning string literal (<ipython-input-5-311402f952b0>, line 2)",
     "output_type": "error",
     "traceback": [
      "\u001b[0;36m  File \u001b[0;32m\"<ipython-input-5-311402f952b0>\"\u001b[0;36m, line \u001b[0;32m2\u001b[0m\n\u001b[0;31m    pd.set_option('display.max_colwidth-1)\u001b[0m\n\u001b[0m                                          ^\u001b[0m\n\u001b[0;31mSyntaxError\u001b[0m\u001b[0;31m:\u001b[0m EOL while scanning string literal\n"
     ]
    }
   ],
   "source": [
    "# kad pandas rodytų pilną Url link'ą\n",
    "pd.set_option('display.max_colwidth-1')\n",
    "\n",
    "# print(KU[0])\n",
    "# išsaugojame duomenis į SQL duomenų bazę\n",
    "conn = sqlite3.connect(\"Alio.db\")\n",
    "cur = conn.cursor()\n",
    "cur.execute(\"CREATE TABLE IF NOT EXISTS Butai (Kaina INTERGER, Metai INTERGER, Plotas INTERGER, Skaičius INTERGER, Url TEXT)\")\n",
    "\n",
    "for v in KU:\n",
    "    cur.execute(\"INSERT INTO Butai (Kaina, Metai, Plotas, Skaičius, Url) VALUES (?,?,?,?,?)\", \n",
    "               (v[\"Kaina\"], v[\"Metai\"], v[\"Plotas\"], v[\"Skaičius\"], v[\"Url\"]))\n",
    "\n",
    "conn.commit()\n",
    "conn.close()"
   ]
  },
  {
   "cell_type": "code",
   "execution_count": null,
   "metadata": {},
   "outputs": [],
   "source": []
  },
  {
   "cell_type": "code",
   "execution_count": null,
   "metadata": {},
   "outputs": [],
   "source": []
  },
  {
   "cell_type": "code",
   "execution_count": null,
   "metadata": {},
   "outputs": [],
   "source": []
  },
  {
   "cell_type": "code",
   "execution_count": null,
   "metadata": {},
   "outputs": [],
   "source": []
  },
  {
   "cell_type": "code",
   "execution_count": 62,
   "metadata": {},
   "outputs": [
    {
     "name": "stdout",
     "output_type": "stream",
     "text": [
      "Pigiausias variantas 5400 https://www.alio.lt/skelbimai/1-kamb-butas-siauliai-siauliai-tilzes-g/ID57649778.html\n",
      "Brangusias variantas 290000 https://www.alio.lt/skelbimai/5-kamb-butas-palanga-palanga-mokyklos-g/ID55015985.html\n"
     ]
    }
   ],
   "source": [
    "# sukuriam pandas dataframe ir atrenkam reikiamus duomenis: pig. ir brang. kainą bei url link'ą, kad būtų galima iš kartą patikrinti\n",
    "df = pd.DataFrame(KU)\n",
    "\n",
    "print(\"Pigiausias variantas \"+str(df['Kaina'].min())+\" \"+str(list(df.loc[df['Kaina'].idxmin()])[-1]))\n",
    "print(\"Brangusias variantas \"+str(df[\"Kaina\"].max())+\" \"+str(list(df.loc[df['Kaina'].idxmax()])[-1]))"
   ]
  },
  {
   "cell_type": "code",
   "execution_count": null,
   "metadata": {},
   "outputs": [],
   "source": []
  }
 ],
 "metadata": {
  "kernelspec": {
   "display_name": "Python 3",
   "language": "python",
   "name": "python3"
  },
  "language_info": {
   "codemirror_mode": {
    "name": "ipython",
    "version": 3
   },
   "file_extension": ".py",
   "mimetype": "text/x-python",
   "name": "python",
   "nbconvert_exporter": "python",
   "pygments_lexer": "ipython3",
   "version": "3.6.6"
  }
 },
 "nbformat": 4,
 "nbformat_minor": 2
}
